{
  "cells": [
    {
      "cell_type": "code",
      "execution_count": 1,
      "metadata": {
        "id": "nQYFVMeJmcrQ"
      },
      "outputs": [],
      "source": [
        "#importing required modules\n",
        "import tweepy\n",
        "import pandas as pd\n",
        "import numpy as np\n",
        "import re"
      ]
    },
    {
      "cell_type": "code",
      "execution_count": 2,
      "metadata": {
        "colab": {
          "base_uri": "https://localhost:8080/",
          "height": 73
        },
        "id": "OdIHSNUdnvLm",
        "outputId": "6057c561-7454-4e2c-9cab-fbe79ded2213"
      },
      "outputs": [
        {
          "output_type": "display_data",
          "data": {
            "text/plain": [
              "<IPython.core.display.HTML object>"
            ],
            "text/html": [
              "\n",
              "     <input type=\"file\" id=\"files-2a033ad4-1419-4607-a198-e29fb85def85\" name=\"files[]\" multiple disabled\n",
              "        style=\"border:none\" />\n",
              "     <output id=\"result-2a033ad4-1419-4607-a198-e29fb85def85\">\n",
              "      Upload widget is only available when the cell has been executed in the\n",
              "      current browser session. Please rerun this cell to enable.\n",
              "      </output>\n",
              "      <script>// Copyright 2017 Google LLC\n",
              "//\n",
              "// Licensed under the Apache License, Version 2.0 (the \"License\");\n",
              "// you may not use this file except in compliance with the License.\n",
              "// You may obtain a copy of the License at\n",
              "//\n",
              "//      http://www.apache.org/licenses/LICENSE-2.0\n",
              "//\n",
              "// Unless required by applicable law or agreed to in writing, software\n",
              "// distributed under the License is distributed on an \"AS IS\" BASIS,\n",
              "// WITHOUT WARRANTIES OR CONDITIONS OF ANY KIND, either express or implied.\n",
              "// See the License for the specific language governing permissions and\n",
              "// limitations under the License.\n",
              "\n",
              "/**\n",
              " * @fileoverview Helpers for google.colab Python module.\n",
              " */\n",
              "(function(scope) {\n",
              "function span(text, styleAttributes = {}) {\n",
              "  const element = document.createElement('span');\n",
              "  element.textContent = text;\n",
              "  for (const key of Object.keys(styleAttributes)) {\n",
              "    element.style[key] = styleAttributes[key];\n",
              "  }\n",
              "  return element;\n",
              "}\n",
              "\n",
              "// Max number of bytes which will be uploaded at a time.\n",
              "const MAX_PAYLOAD_SIZE = 100 * 1024;\n",
              "\n",
              "function _uploadFiles(inputId, outputId) {\n",
              "  const steps = uploadFilesStep(inputId, outputId);\n",
              "  const outputElement = document.getElementById(outputId);\n",
              "  // Cache steps on the outputElement to make it available for the next call\n",
              "  // to uploadFilesContinue from Python.\n",
              "  outputElement.steps = steps;\n",
              "\n",
              "  return _uploadFilesContinue(outputId);\n",
              "}\n",
              "\n",
              "// This is roughly an async generator (not supported in the browser yet),\n",
              "// where there are multiple asynchronous steps and the Python side is going\n",
              "// to poll for completion of each step.\n",
              "// This uses a Promise to block the python side on completion of each step,\n",
              "// then passes the result of the previous step as the input to the next step.\n",
              "function _uploadFilesContinue(outputId) {\n",
              "  const outputElement = document.getElementById(outputId);\n",
              "  const steps = outputElement.steps;\n",
              "\n",
              "  const next = steps.next(outputElement.lastPromiseValue);\n",
              "  return Promise.resolve(next.value.promise).then((value) => {\n",
              "    // Cache the last promise value to make it available to the next\n",
              "    // step of the generator.\n",
              "    outputElement.lastPromiseValue = value;\n",
              "    return next.value.response;\n",
              "  });\n",
              "}\n",
              "\n",
              "/**\n",
              " * Generator function which is called between each async step of the upload\n",
              " * process.\n",
              " * @param {string} inputId Element ID of the input file picker element.\n",
              " * @param {string} outputId Element ID of the output display.\n",
              " * @return {!Iterable<!Object>} Iterable of next steps.\n",
              " */\n",
              "function* uploadFilesStep(inputId, outputId) {\n",
              "  const inputElement = document.getElementById(inputId);\n",
              "  inputElement.disabled = false;\n",
              "\n",
              "  const outputElement = document.getElementById(outputId);\n",
              "  outputElement.innerHTML = '';\n",
              "\n",
              "  const pickedPromise = new Promise((resolve) => {\n",
              "    inputElement.addEventListener('change', (e) => {\n",
              "      resolve(e.target.files);\n",
              "    });\n",
              "  });\n",
              "\n",
              "  const cancel = document.createElement('button');\n",
              "  inputElement.parentElement.appendChild(cancel);\n",
              "  cancel.textContent = 'Cancel upload';\n",
              "  const cancelPromise = new Promise((resolve) => {\n",
              "    cancel.onclick = () => {\n",
              "      resolve(null);\n",
              "    };\n",
              "  });\n",
              "\n",
              "  // Wait for the user to pick the files.\n",
              "  const files = yield {\n",
              "    promise: Promise.race([pickedPromise, cancelPromise]),\n",
              "    response: {\n",
              "      action: 'starting',\n",
              "    }\n",
              "  };\n",
              "\n",
              "  cancel.remove();\n",
              "\n",
              "  // Disable the input element since further picks are not allowed.\n",
              "  inputElement.disabled = true;\n",
              "\n",
              "  if (!files) {\n",
              "    return {\n",
              "      response: {\n",
              "        action: 'complete',\n",
              "      }\n",
              "    };\n",
              "  }\n",
              "\n",
              "  for (const file of files) {\n",
              "    const li = document.createElement('li');\n",
              "    li.append(span(file.name, {fontWeight: 'bold'}));\n",
              "    li.append(span(\n",
              "        `(${file.type || 'n/a'}) - ${file.size} bytes, ` +\n",
              "        `last modified: ${\n",
              "            file.lastModifiedDate ? file.lastModifiedDate.toLocaleDateString() :\n",
              "                                    'n/a'} - `));\n",
              "    const percent = span('0% done');\n",
              "    li.appendChild(percent);\n",
              "\n",
              "    outputElement.appendChild(li);\n",
              "\n",
              "    const fileDataPromise = new Promise((resolve) => {\n",
              "      const reader = new FileReader();\n",
              "      reader.onload = (e) => {\n",
              "        resolve(e.target.result);\n",
              "      };\n",
              "      reader.readAsArrayBuffer(file);\n",
              "    });\n",
              "    // Wait for the data to be ready.\n",
              "    let fileData = yield {\n",
              "      promise: fileDataPromise,\n",
              "      response: {\n",
              "        action: 'continue',\n",
              "      }\n",
              "    };\n",
              "\n",
              "    // Use a chunked sending to avoid message size limits. See b/62115660.\n",
              "    let position = 0;\n",
              "    do {\n",
              "      const length = Math.min(fileData.byteLength - position, MAX_PAYLOAD_SIZE);\n",
              "      const chunk = new Uint8Array(fileData, position, length);\n",
              "      position += length;\n",
              "\n",
              "      const base64 = btoa(String.fromCharCode.apply(null, chunk));\n",
              "      yield {\n",
              "        response: {\n",
              "          action: 'append',\n",
              "          file: file.name,\n",
              "          data: base64,\n",
              "        },\n",
              "      };\n",
              "\n",
              "      let percentDone = fileData.byteLength === 0 ?\n",
              "          100 :\n",
              "          Math.round((position / fileData.byteLength) * 100);\n",
              "      percent.textContent = `${percentDone}% done`;\n",
              "\n",
              "    } while (position < fileData.byteLength);\n",
              "  }\n",
              "\n",
              "  // All done.\n",
              "  yield {\n",
              "    response: {\n",
              "      action: 'complete',\n",
              "    }\n",
              "  };\n",
              "}\n",
              "\n",
              "scope.google = scope.google || {};\n",
              "scope.google.colab = scope.google.colab || {};\n",
              "scope.google.colab._files = {\n",
              "  _uploadFiles,\n",
              "  _uploadFilesContinue,\n",
              "};\n",
              "})(self);\n",
              "</script> "
            ]
          },
          "metadata": {}
        },
        {
          "output_type": "stream",
          "name": "stdout",
          "text": [
            "Saving Login.csv to Login.csv\n"
          ]
        }
      ],
      "source": [
        "#code to upload file which consists of twitter API keys\n",
        "from google.colab import files\n",
        "uploaded=files.upload()\n"
      ]
    },
    {
      "cell_type": "code",
      "execution_count": 3,
      "metadata": {
        "id": "6VowLdB7oHqj"
      },
      "outputs": [],
      "source": [
        "#creating a dataframe for API keys\n",
        "data=pd.read_csv(\"Login.csv\")"
      ]
    },
    {
      "cell_type": "code",
      "execution_count": 4,
      "metadata": {
        "id": "ABkiUT1MoaIZ"
      },
      "outputs": [],
      "source": [
        "#gettings the keys from dataframe for authentication\n",
        "consumerKey=data['Key'][0]\n",
        "consumerSecret=data['Key'][1]\n",
        "accessToken=data['Key'][2]\n",
        "accessTokenSecret=data['Key'][3]"
      ]
    },
    {
      "cell_type": "code",
      "execution_count": 5,
      "metadata": {
        "id": "JsBr_d9Fo8p7"
      },
      "outputs": [],
      "source": [
        "#Getting the API Authentication\n",
        "authenticate=tweepy.OAuthHandler(consumerKey,consumerSecret)\n",
        "api=tweepy.API(authenticate,wait_on_rate_limit=True)\n"
      ]
    },
    {
      "cell_type": "code",
      "execution_count": 6,
      "metadata": {
        "id": "W9jclK2a4OXO"
      },
      "outputs": [],
      "source": [
        "#getting the tweet posts from API using search query and language\n",
        "posts=api.user_timeline(screen_name=\"jamescharles\", count=50000, lang=\"en\", tweet_mode=\"extended\")"
      ]
    },
    {
      "cell_type": "code",
      "execution_count": 7,
      "metadata": {
        "colab": {
          "base_uri": "https://localhost:8080/"
        },
        "id": "E_oiEuuT4ioj",
        "outputId": "9c376356-0fa8-428b-b453-9092153bbb96"
      },
      "outputs": [
        {
          "output_type": "stream",
          "name": "stdout",
          "text": [
            "1RT @jamescharles: NEW VIDEO IS FINALLY LIVE!\n",
            "\n",
            "RECREATING MY FOLLOWERS HALLOWEEN MAKEUP! 💀🔪 https://t.co/Tt3k9xIEvM https://t.co/q8HoH27rUA\n",
            "\n",
            "2NEW VIDEO IS FINALLY LIVE!\n",
            "\n",
            "RECREATING MY FOLLOWERS HALLOWEEN MAKEUP! 💀🔪 https://t.co/Tt3k9xIEvM https://t.co/q8HoH27rUA\n",
            "\n",
            "3RT @jamescharles: NEW VIDEO IS OUT NOW!\n",
            "\n",
            "I SET MY MAKEUP ROUTINE ON FIRE! 🔥 This challenge was insane lmfaooo enjoy! https://t.co/T5U2WVh9a…\n",
            "\n",
            "4@mrjamiecharlie HAPPY BIRTHDAY ELL I LOVEEEE U\n",
            "\n",
            "5RT @patrickstarrr: JAMES OMG THIS IS CRAZY LMAO!! “@OneSizeBeauty is fireproof” I screamed 😭😂❤️\n",
            "\n"
          ]
        }
      ],
      "source": [
        "#Printing the first 5 tweets\n",
        "i=1\n",
        "for tweets in posts[:5]:\n",
        "    print(str(i)+tweets.full_text+\"\\n\")\n",
        "    i+=1"
      ]
    },
    {
      "cell_type": "code",
      "execution_count": 8,
      "metadata": {
        "id": "O0r4lyGg49qg",
        "colab": {
          "base_uri": "https://localhost:8080/",
          "height": 206
        },
        "outputId": "f3eb0d34-e190-44b8-d592-6c5370e81273"
      },
      "outputs": [
        {
          "output_type": "execute_result",
          "data": {
            "text/plain": [
              "                                              Tweets\n",
              "0  RT @jamescharles: NEW VIDEO IS FINALLY LIVE!\\n...\n",
              "1  NEW VIDEO IS FINALLY LIVE!\\n\\nRECREATING MY FO...\n",
              "2  RT @jamescharles: NEW VIDEO IS OUT NOW!\\n\\nI S...\n",
              "3     @mrjamiecharlie HAPPY BIRTHDAY ELL I LOVEEEE U\n",
              "4  RT @patrickstarrr: JAMES OMG THIS IS CRAZY LMA..."
            ],
            "text/html": [
              "\n",
              "  <div id=\"df-ea5d6d55-20ad-4536-87ad-6c065c0e4800\">\n",
              "    <div class=\"colab-df-container\">\n",
              "      <div>\n",
              "<style scoped>\n",
              "    .dataframe tbody tr th:only-of-type {\n",
              "        vertical-align: middle;\n",
              "    }\n",
              "\n",
              "    .dataframe tbody tr th {\n",
              "        vertical-align: top;\n",
              "    }\n",
              "\n",
              "    .dataframe thead th {\n",
              "        text-align: right;\n",
              "    }\n",
              "</style>\n",
              "<table border=\"1\" class=\"dataframe\">\n",
              "  <thead>\n",
              "    <tr style=\"text-align: right;\">\n",
              "      <th></th>\n",
              "      <th>Tweets</th>\n",
              "    </tr>\n",
              "  </thead>\n",
              "  <tbody>\n",
              "    <tr>\n",
              "      <th>0</th>\n",
              "      <td>RT @jamescharles: NEW VIDEO IS FINALLY LIVE!\\n...</td>\n",
              "    </tr>\n",
              "    <tr>\n",
              "      <th>1</th>\n",
              "      <td>NEW VIDEO IS FINALLY LIVE!\\n\\nRECREATING MY FO...</td>\n",
              "    </tr>\n",
              "    <tr>\n",
              "      <th>2</th>\n",
              "      <td>RT @jamescharles: NEW VIDEO IS OUT NOW!\\n\\nI S...</td>\n",
              "    </tr>\n",
              "    <tr>\n",
              "      <th>3</th>\n",
              "      <td>@mrjamiecharlie HAPPY BIRTHDAY ELL I LOVEEEE U</td>\n",
              "    </tr>\n",
              "    <tr>\n",
              "      <th>4</th>\n",
              "      <td>RT @patrickstarrr: JAMES OMG THIS IS CRAZY LMA...</td>\n",
              "    </tr>\n",
              "  </tbody>\n",
              "</table>\n",
              "</div>\n",
              "      <button class=\"colab-df-convert\" onclick=\"convertToInteractive('df-ea5d6d55-20ad-4536-87ad-6c065c0e4800')\"\n",
              "              title=\"Convert this dataframe to an interactive table.\"\n",
              "              style=\"display:none;\">\n",
              "        \n",
              "  <svg xmlns=\"http://www.w3.org/2000/svg\" height=\"24px\"viewBox=\"0 0 24 24\"\n",
              "       width=\"24px\">\n",
              "    <path d=\"M0 0h24v24H0V0z\" fill=\"none\"/>\n",
              "    <path d=\"M18.56 5.44l.94 2.06.94-2.06 2.06-.94-2.06-.94-.94-2.06-.94 2.06-2.06.94zm-11 1L8.5 8.5l.94-2.06 2.06-.94-2.06-.94L8.5 2.5l-.94 2.06-2.06.94zm10 10l.94 2.06.94-2.06 2.06-.94-2.06-.94-.94-2.06-.94 2.06-2.06.94z\"/><path d=\"M17.41 7.96l-1.37-1.37c-.4-.4-.92-.59-1.43-.59-.52 0-1.04.2-1.43.59L10.3 9.45l-7.72 7.72c-.78.78-.78 2.05 0 2.83L4 21.41c.39.39.9.59 1.41.59.51 0 1.02-.2 1.41-.59l7.78-7.78 2.81-2.81c.8-.78.8-2.07 0-2.86zM5.41 20L4 18.59l7.72-7.72 1.47 1.35L5.41 20z\"/>\n",
              "  </svg>\n",
              "      </button>\n",
              "      \n",
              "  <style>\n",
              "    .colab-df-container {\n",
              "      display:flex;\n",
              "      flex-wrap:wrap;\n",
              "      gap: 12px;\n",
              "    }\n",
              "\n",
              "    .colab-df-convert {\n",
              "      background-color: #E8F0FE;\n",
              "      border: none;\n",
              "      border-radius: 50%;\n",
              "      cursor: pointer;\n",
              "      display: none;\n",
              "      fill: #1967D2;\n",
              "      height: 32px;\n",
              "      padding: 0 0 0 0;\n",
              "      width: 32px;\n",
              "    }\n",
              "\n",
              "    .colab-df-convert:hover {\n",
              "      background-color: #E2EBFA;\n",
              "      box-shadow: 0px 1px 2px rgba(60, 64, 67, 0.3), 0px 1px 3px 1px rgba(60, 64, 67, 0.15);\n",
              "      fill: #174EA6;\n",
              "    }\n",
              "\n",
              "    [theme=dark] .colab-df-convert {\n",
              "      background-color: #3B4455;\n",
              "      fill: #D2E3FC;\n",
              "    }\n",
              "\n",
              "    [theme=dark] .colab-df-convert:hover {\n",
              "      background-color: #434B5C;\n",
              "      box-shadow: 0px 1px 3px 1px rgba(0, 0, 0, 0.15);\n",
              "      filter: drop-shadow(0px 1px 2px rgba(0, 0, 0, 0.3));\n",
              "      fill: #FFFFFF;\n",
              "    }\n",
              "  </style>\n",
              "\n",
              "      <script>\n",
              "        const buttonEl =\n",
              "          document.querySelector('#df-ea5d6d55-20ad-4536-87ad-6c065c0e4800 button.colab-df-convert');\n",
              "        buttonEl.style.display =\n",
              "          google.colab.kernel.accessAllowed ? 'block' : 'none';\n",
              "\n",
              "        async function convertToInteractive(key) {\n",
              "          const element = document.querySelector('#df-ea5d6d55-20ad-4536-87ad-6c065c0e4800');\n",
              "          const dataTable =\n",
              "            await google.colab.kernel.invokeFunction('convertToInteractive',\n",
              "                                                     [key], {});\n",
              "          if (!dataTable) return;\n",
              "\n",
              "          const docLinkHtml = 'Like what you see? Visit the ' +\n",
              "            '<a target=\"_blank\" href=https://colab.research.google.com/notebooks/data_table.ipynb>data table notebook</a>'\n",
              "            + ' to learn more about interactive tables.';\n",
              "          element.innerHTML = '';\n",
              "          dataTable['output_type'] = 'display_data';\n",
              "          await google.colab.output.renderOutput(dataTable, element);\n",
              "          const docLink = document.createElement('div');\n",
              "          docLink.innerHTML = docLinkHtml;\n",
              "          element.appendChild(docLink);\n",
              "        }\n",
              "      </script>\n",
              "    </div>\n",
              "  </div>\n",
              "  "
            ]
          },
          "metadata": {},
          "execution_count": 8
        }
      ],
      "source": [
        "#converting the tweets data as dataframe\n",
        "df=pd.DataFrame([tweet.full_text for tweet in posts],columns=['Tweets'])\n",
        "df.head()"
      ]
    },
    {
      "cell_type": "code",
      "execution_count": 9,
      "metadata": {
        "id": "Ue1WJSGzOqEJ",
        "colab": {
          "base_uri": "https://localhost:8080/",
          "height": 677
        },
        "outputId": "fffc3295-d927-492a-af3a-33228e52cf2a"
      },
      "outputs": [
        {
          "output_type": "execute_result",
          "data": {
            "text/plain": [
              "                                               Tweets\n",
              "0    NEW VIDEO IS FINALLY LIVE!\\n\\nRECREATING MY F...\n",
              "1   NEW VIDEO IS FINALLY LIVE!\\n\\nRECREATING MY FO...\n",
              "2    NEW VIDEO IS OUT NOW!\\n\\nI SET MY MAKEUP ROUT...\n",
              "3                      HAPPY BIRTHDAY ELL I LOVEEEE U\n",
              "4    JAMES OMG THIS IS CRAZY LMAO!! “ is fireproof...\n",
              "5    he is, agreed, but I do my thumbnails myself!...\n",
              "6         today’s video thumbnail before and after 🤓 \n",
              "7   NEW VIDEO IS OUT NOW!\\n\\nI SET MY MAKEUP ROUTI...\n",
              "8    NEW VIDEO IS LIVE!\\nI TRIED POLE DANCING FOR ...\n",
              "9   NEW VIDEO IS LIVE!\\nI TRIED POLE DANCING FOR T...\n",
              "10   As I’ve said before, no one should be in jail...\n",
              "11   NEW VIDEO IS LIVE!\\n\\nSPEAKING ONLY SPANISH F...\n",
              "12                                     well I did now\n",
              "13  NEW VIDEO IS LIVE!\\n\\nSPEAKING ONLY SPANISH FO...\n",
              "14   got my favourite person to draw me a tattoo &...\n",
              "15  NEW VIDEO IS LIVE!\\n\\nBUSTING 50 CRAZY MAKEUP ...\n",
              "16  NEW VIDEO IS LIVE! \\nMY TEAM DOES MY MAKEUP! M...\n",
              "17   NEW VIDEO IS LIVE!\\n\\nI SURVIVED THE BEST VS ...\n",
              "18  NEW VIDEO IS LIVE!\\n\\nI SURVIVED THE BEST VS W...\n",
              "19   NEW VIDEO IS LIVE!\\n\\nI bought a $500 MAKEUP ..."
            ],
            "text/html": [
              "\n",
              "  <div id=\"df-85e63be4-56b9-4dea-b069-01f5121220b2\">\n",
              "    <div class=\"colab-df-container\">\n",
              "      <div>\n",
              "<style scoped>\n",
              "    .dataframe tbody tr th:only-of-type {\n",
              "        vertical-align: middle;\n",
              "    }\n",
              "\n",
              "    .dataframe tbody tr th {\n",
              "        vertical-align: top;\n",
              "    }\n",
              "\n",
              "    .dataframe thead th {\n",
              "        text-align: right;\n",
              "    }\n",
              "</style>\n",
              "<table border=\"1\" class=\"dataframe\">\n",
              "  <thead>\n",
              "    <tr style=\"text-align: right;\">\n",
              "      <th></th>\n",
              "      <th>Tweets</th>\n",
              "    </tr>\n",
              "  </thead>\n",
              "  <tbody>\n",
              "    <tr>\n",
              "      <th>0</th>\n",
              "      <td>NEW VIDEO IS FINALLY LIVE!\\n\\nRECREATING MY F...</td>\n",
              "    </tr>\n",
              "    <tr>\n",
              "      <th>1</th>\n",
              "      <td>NEW VIDEO IS FINALLY LIVE!\\n\\nRECREATING MY FO...</td>\n",
              "    </tr>\n",
              "    <tr>\n",
              "      <th>2</th>\n",
              "      <td>NEW VIDEO IS OUT NOW!\\n\\nI SET MY MAKEUP ROUT...</td>\n",
              "    </tr>\n",
              "    <tr>\n",
              "      <th>3</th>\n",
              "      <td>HAPPY BIRTHDAY ELL I LOVEEEE U</td>\n",
              "    </tr>\n",
              "    <tr>\n",
              "      <th>4</th>\n",
              "      <td>JAMES OMG THIS IS CRAZY LMAO!! “ is fireproof...</td>\n",
              "    </tr>\n",
              "    <tr>\n",
              "      <th>5</th>\n",
              "      <td>he is, agreed, but I do my thumbnails myself!...</td>\n",
              "    </tr>\n",
              "    <tr>\n",
              "      <th>6</th>\n",
              "      <td>today’s video thumbnail before and after 🤓</td>\n",
              "    </tr>\n",
              "    <tr>\n",
              "      <th>7</th>\n",
              "      <td>NEW VIDEO IS OUT NOW!\\n\\nI SET MY MAKEUP ROUTI...</td>\n",
              "    </tr>\n",
              "    <tr>\n",
              "      <th>8</th>\n",
              "      <td>NEW VIDEO IS LIVE!\\nI TRIED POLE DANCING FOR ...</td>\n",
              "    </tr>\n",
              "    <tr>\n",
              "      <th>9</th>\n",
              "      <td>NEW VIDEO IS LIVE!\\nI TRIED POLE DANCING FOR T...</td>\n",
              "    </tr>\n",
              "    <tr>\n",
              "      <th>10</th>\n",
              "      <td>As I’ve said before, no one should be in jail...</td>\n",
              "    </tr>\n",
              "    <tr>\n",
              "      <th>11</th>\n",
              "      <td>NEW VIDEO IS LIVE!\\n\\nSPEAKING ONLY SPANISH F...</td>\n",
              "    </tr>\n",
              "    <tr>\n",
              "      <th>12</th>\n",
              "      <td>well I did now</td>\n",
              "    </tr>\n",
              "    <tr>\n",
              "      <th>13</th>\n",
              "      <td>NEW VIDEO IS LIVE!\\n\\nSPEAKING ONLY SPANISH FO...</td>\n",
              "    </tr>\n",
              "    <tr>\n",
              "      <th>14</th>\n",
              "      <td>got my favourite person to draw me a tattoo &amp;...</td>\n",
              "    </tr>\n",
              "    <tr>\n",
              "      <th>15</th>\n",
              "      <td>NEW VIDEO IS LIVE!\\n\\nBUSTING 50 CRAZY MAKEUP ...</td>\n",
              "    </tr>\n",
              "    <tr>\n",
              "      <th>16</th>\n",
              "      <td>NEW VIDEO IS LIVE! \\nMY TEAM DOES MY MAKEUP! M...</td>\n",
              "    </tr>\n",
              "    <tr>\n",
              "      <th>17</th>\n",
              "      <td>NEW VIDEO IS LIVE!\\n\\nI SURVIVED THE BEST VS ...</td>\n",
              "    </tr>\n",
              "    <tr>\n",
              "      <th>18</th>\n",
              "      <td>NEW VIDEO IS LIVE!\\n\\nI SURVIVED THE BEST VS W...</td>\n",
              "    </tr>\n",
              "    <tr>\n",
              "      <th>19</th>\n",
              "      <td>NEW VIDEO IS LIVE!\\n\\nI bought a $500 MAKEUP ...</td>\n",
              "    </tr>\n",
              "  </tbody>\n",
              "</table>\n",
              "</div>\n",
              "      <button class=\"colab-df-convert\" onclick=\"convertToInteractive('df-85e63be4-56b9-4dea-b069-01f5121220b2')\"\n",
              "              title=\"Convert this dataframe to an interactive table.\"\n",
              "              style=\"display:none;\">\n",
              "        \n",
              "  <svg xmlns=\"http://www.w3.org/2000/svg\" height=\"24px\"viewBox=\"0 0 24 24\"\n",
              "       width=\"24px\">\n",
              "    <path d=\"M0 0h24v24H0V0z\" fill=\"none\"/>\n",
              "    <path d=\"M18.56 5.44l.94 2.06.94-2.06 2.06-.94-2.06-.94-.94-2.06-.94 2.06-2.06.94zm-11 1L8.5 8.5l.94-2.06 2.06-.94-2.06-.94L8.5 2.5l-.94 2.06-2.06.94zm10 10l.94 2.06.94-2.06 2.06-.94-2.06-.94-.94-2.06-.94 2.06-2.06.94z\"/><path d=\"M17.41 7.96l-1.37-1.37c-.4-.4-.92-.59-1.43-.59-.52 0-1.04.2-1.43.59L10.3 9.45l-7.72 7.72c-.78.78-.78 2.05 0 2.83L4 21.41c.39.39.9.59 1.41.59.51 0 1.02-.2 1.41-.59l7.78-7.78 2.81-2.81c.8-.78.8-2.07 0-2.86zM5.41 20L4 18.59l7.72-7.72 1.47 1.35L5.41 20z\"/>\n",
              "  </svg>\n",
              "      </button>\n",
              "      \n",
              "  <style>\n",
              "    .colab-df-container {\n",
              "      display:flex;\n",
              "      flex-wrap:wrap;\n",
              "      gap: 12px;\n",
              "    }\n",
              "\n",
              "    .colab-df-convert {\n",
              "      background-color: #E8F0FE;\n",
              "      border: none;\n",
              "      border-radius: 50%;\n",
              "      cursor: pointer;\n",
              "      display: none;\n",
              "      fill: #1967D2;\n",
              "      height: 32px;\n",
              "      padding: 0 0 0 0;\n",
              "      width: 32px;\n",
              "    }\n",
              "\n",
              "    .colab-df-convert:hover {\n",
              "      background-color: #E2EBFA;\n",
              "      box-shadow: 0px 1px 2px rgba(60, 64, 67, 0.3), 0px 1px 3px 1px rgba(60, 64, 67, 0.15);\n",
              "      fill: #174EA6;\n",
              "    }\n",
              "\n",
              "    [theme=dark] .colab-df-convert {\n",
              "      background-color: #3B4455;\n",
              "      fill: #D2E3FC;\n",
              "    }\n",
              "\n",
              "    [theme=dark] .colab-df-convert:hover {\n",
              "      background-color: #434B5C;\n",
              "      box-shadow: 0px 1px 3px 1px rgba(0, 0, 0, 0.15);\n",
              "      filter: drop-shadow(0px 1px 2px rgba(0, 0, 0, 0.3));\n",
              "      fill: #FFFFFF;\n",
              "    }\n",
              "  </style>\n",
              "\n",
              "      <script>\n",
              "        const buttonEl =\n",
              "          document.querySelector('#df-85e63be4-56b9-4dea-b069-01f5121220b2 button.colab-df-convert');\n",
              "        buttonEl.style.display =\n",
              "          google.colab.kernel.accessAllowed ? 'block' : 'none';\n",
              "\n",
              "        async function convertToInteractive(key) {\n",
              "          const element = document.querySelector('#df-85e63be4-56b9-4dea-b069-01f5121220b2');\n",
              "          const dataTable =\n",
              "            await google.colab.kernel.invokeFunction('convertToInteractive',\n",
              "                                                     [key], {});\n",
              "          if (!dataTable) return;\n",
              "\n",
              "          const docLinkHtml = 'Like what you see? Visit the ' +\n",
              "            '<a target=\"_blank\" href=https://colab.research.google.com/notebooks/data_table.ipynb>data table notebook</a>'\n",
              "            + ' to learn more about interactive tables.';\n",
              "          element.innerHTML = '';\n",
              "          dataTable['output_type'] = 'display_data';\n",
              "          await google.colab.output.renderOutput(dataTable, element);\n",
              "          const docLink = document.createElement('div');\n",
              "          docLink.innerHTML = docLinkHtml;\n",
              "          element.appendChild(docLink);\n",
              "        }\n",
              "      </script>\n",
              "    </div>\n",
              "  </div>\n",
              "  "
            ]
          },
          "metadata": {},
          "execution_count": 9
        }
      ],
      "source": [
        "#Removing links, additional white spaces, Hashtags and RT tags, @Mentionings\n",
        "def cleanTxt(text):\n",
        "  text=re.sub(r'@[A-Za-z0-9]+','',text)\n",
        "  text=re.sub(r'#','',text)\n",
        "  text=re.sub(r'RT[\\s]+','',text)\n",
        "  text=re.sub(r'https?:\\/\\/\\S+','',text)\n",
        "  text=re.sub(r':','',text)\n",
        "  return text\n",
        "df['Tweets']=df['Tweets'].apply(cleanTxt)\n",
        "df"
      ]
    },
    {
      "cell_type": "code",
      "execution_count": 10,
      "metadata": {
        "id": "JwADLwV6n2Bs",
        "colab": {
          "base_uri": "https://localhost:8080/"
        },
        "outputId": "66e2a297-2379-40dc-eac1-7cae4ec3fa49"
      },
      "outputs": [
        {
          "output_type": "stream",
          "name": "stderr",
          "text": [
            "/usr/local/lib/python3.7/dist-packages/ipykernel_launcher.py:2: FutureWarning: The default value of regex will change from True to False in a future version.\n",
            "  \n"
          ]
        }
      ],
      "source": [
        "#removing punctuations\n",
        "df['Tweets'] = df['Tweets'].str.replace('[^\\w\\s]','') \n",
        "df['Tweets'] =df['Tweets'].str.replace('\\n',' ') "
      ]
    },
    {
      "cell_type": "code",
      "execution_count": 11,
      "metadata": {
        "colab": {
          "base_uri": "https://localhost:8080/",
          "height": 677
        },
        "id": "hF0T_-Sdo8JS",
        "outputId": "edfd66c3-0c22-4746-85dc-f333450bfc20"
      },
      "outputs": [
        {
          "output_type": "execute_result",
          "data": {
            "text/plain": [
              "                                               Tweets\n",
              "0    NEW VIDEO IS FINALLY LIVE  RECREATING MY FOLL...\n",
              "1   NEW VIDEO IS FINALLY LIVE  RECREATING MY FOLLO...\n",
              "2    NEW VIDEO IS OUT NOW  I SET MY MAKEUP ROUTINE...\n",
              "3                      HAPPY BIRTHDAY ELL I LOVEEEE U\n",
              "4    JAMES OMG THIS IS CRAZY LMAO  is fireproof I ...\n",
              "5      he is agreed but I do my thumbnails myself lol\n",
              "6           todays video thumbnail before and after  \n",
              "7   NEW VIDEO IS OUT NOW  I SET MY MAKEUP ROUTINE ...\n",
              "8    NEW VIDEO IS LIVE I TRIED POLE DANCING FOR TH...\n",
              "9   NEW VIDEO IS LIVE I TRIED POLE DANCING FOR THE...\n",
              "10   As Ive said before no one should be in jail j...\n",
              "11   NEW VIDEO IS LIVE  SPEAKING ONLY SPANISH FOR ...\n",
              "12                                     well I did now\n",
              "13  NEW VIDEO IS LIVE  SPEAKING ONLY SPANISH FOR 2...\n",
              "14   got my favourite person to draw me a tattoo l...\n",
              "15  NEW VIDEO IS LIVE  BUSTING 50 CRAZY MAKEUP MYT...\n",
              "16  NEW VIDEO IS LIVE  MY TEAM DOES MY MAKEUP Make...\n",
              "17   NEW VIDEO IS LIVE  I SURVIVED THE BEST VS WOR...\n",
              "18  NEW VIDEO IS LIVE  I SURVIVED THE BEST VS WORS...\n",
              "19   NEW VIDEO IS LIVE  I bought a 500 MAKEUP MYST..."
            ],
            "text/html": [
              "\n",
              "  <div id=\"df-6b1d4452-954a-4d45-867f-201988839e8d\">\n",
              "    <div class=\"colab-df-container\">\n",
              "      <div>\n",
              "<style scoped>\n",
              "    .dataframe tbody tr th:only-of-type {\n",
              "        vertical-align: middle;\n",
              "    }\n",
              "\n",
              "    .dataframe tbody tr th {\n",
              "        vertical-align: top;\n",
              "    }\n",
              "\n",
              "    .dataframe thead th {\n",
              "        text-align: right;\n",
              "    }\n",
              "</style>\n",
              "<table border=\"1\" class=\"dataframe\">\n",
              "  <thead>\n",
              "    <tr style=\"text-align: right;\">\n",
              "      <th></th>\n",
              "      <th>Tweets</th>\n",
              "    </tr>\n",
              "  </thead>\n",
              "  <tbody>\n",
              "    <tr>\n",
              "      <th>0</th>\n",
              "      <td>NEW VIDEO IS FINALLY LIVE  RECREATING MY FOLL...</td>\n",
              "    </tr>\n",
              "    <tr>\n",
              "      <th>1</th>\n",
              "      <td>NEW VIDEO IS FINALLY LIVE  RECREATING MY FOLLO...</td>\n",
              "    </tr>\n",
              "    <tr>\n",
              "      <th>2</th>\n",
              "      <td>NEW VIDEO IS OUT NOW  I SET MY MAKEUP ROUTINE...</td>\n",
              "    </tr>\n",
              "    <tr>\n",
              "      <th>3</th>\n",
              "      <td>HAPPY BIRTHDAY ELL I LOVEEEE U</td>\n",
              "    </tr>\n",
              "    <tr>\n",
              "      <th>4</th>\n",
              "      <td>JAMES OMG THIS IS CRAZY LMAO  is fireproof I ...</td>\n",
              "    </tr>\n",
              "    <tr>\n",
              "      <th>5</th>\n",
              "      <td>he is agreed but I do my thumbnails myself lol</td>\n",
              "    </tr>\n",
              "    <tr>\n",
              "      <th>6</th>\n",
              "      <td>todays video thumbnail before and after</td>\n",
              "    </tr>\n",
              "    <tr>\n",
              "      <th>7</th>\n",
              "      <td>NEW VIDEO IS OUT NOW  I SET MY MAKEUP ROUTINE ...</td>\n",
              "    </tr>\n",
              "    <tr>\n",
              "      <th>8</th>\n",
              "      <td>NEW VIDEO IS LIVE I TRIED POLE DANCING FOR TH...</td>\n",
              "    </tr>\n",
              "    <tr>\n",
              "      <th>9</th>\n",
              "      <td>NEW VIDEO IS LIVE I TRIED POLE DANCING FOR THE...</td>\n",
              "    </tr>\n",
              "    <tr>\n",
              "      <th>10</th>\n",
              "      <td>As Ive said before no one should be in jail j...</td>\n",
              "    </tr>\n",
              "    <tr>\n",
              "      <th>11</th>\n",
              "      <td>NEW VIDEO IS LIVE  SPEAKING ONLY SPANISH FOR ...</td>\n",
              "    </tr>\n",
              "    <tr>\n",
              "      <th>12</th>\n",
              "      <td>well I did now</td>\n",
              "    </tr>\n",
              "    <tr>\n",
              "      <th>13</th>\n",
              "      <td>NEW VIDEO IS LIVE  SPEAKING ONLY SPANISH FOR 2...</td>\n",
              "    </tr>\n",
              "    <tr>\n",
              "      <th>14</th>\n",
              "      <td>got my favourite person to draw me a tattoo l...</td>\n",
              "    </tr>\n",
              "    <tr>\n",
              "      <th>15</th>\n",
              "      <td>NEW VIDEO IS LIVE  BUSTING 50 CRAZY MAKEUP MYT...</td>\n",
              "    </tr>\n",
              "    <tr>\n",
              "      <th>16</th>\n",
              "      <td>NEW VIDEO IS LIVE  MY TEAM DOES MY MAKEUP Make...</td>\n",
              "    </tr>\n",
              "    <tr>\n",
              "      <th>17</th>\n",
              "      <td>NEW VIDEO IS LIVE  I SURVIVED THE BEST VS WOR...</td>\n",
              "    </tr>\n",
              "    <tr>\n",
              "      <th>18</th>\n",
              "      <td>NEW VIDEO IS LIVE  I SURVIVED THE BEST VS WORS...</td>\n",
              "    </tr>\n",
              "    <tr>\n",
              "      <th>19</th>\n",
              "      <td>NEW VIDEO IS LIVE  I bought a 500 MAKEUP MYST...</td>\n",
              "    </tr>\n",
              "  </tbody>\n",
              "</table>\n",
              "</div>\n",
              "      <button class=\"colab-df-convert\" onclick=\"convertToInteractive('df-6b1d4452-954a-4d45-867f-201988839e8d')\"\n",
              "              title=\"Convert this dataframe to an interactive table.\"\n",
              "              style=\"display:none;\">\n",
              "        \n",
              "  <svg xmlns=\"http://www.w3.org/2000/svg\" height=\"24px\"viewBox=\"0 0 24 24\"\n",
              "       width=\"24px\">\n",
              "    <path d=\"M0 0h24v24H0V0z\" fill=\"none\"/>\n",
              "    <path d=\"M18.56 5.44l.94 2.06.94-2.06 2.06-.94-2.06-.94-.94-2.06-.94 2.06-2.06.94zm-11 1L8.5 8.5l.94-2.06 2.06-.94-2.06-.94L8.5 2.5l-.94 2.06-2.06.94zm10 10l.94 2.06.94-2.06 2.06-.94-2.06-.94-.94-2.06-.94 2.06-2.06.94z\"/><path d=\"M17.41 7.96l-1.37-1.37c-.4-.4-.92-.59-1.43-.59-.52 0-1.04.2-1.43.59L10.3 9.45l-7.72 7.72c-.78.78-.78 2.05 0 2.83L4 21.41c.39.39.9.59 1.41.59.51 0 1.02-.2 1.41-.59l7.78-7.78 2.81-2.81c.8-.78.8-2.07 0-2.86zM5.41 20L4 18.59l7.72-7.72 1.47 1.35L5.41 20z\"/>\n",
              "  </svg>\n",
              "      </button>\n",
              "      \n",
              "  <style>\n",
              "    .colab-df-container {\n",
              "      display:flex;\n",
              "      flex-wrap:wrap;\n",
              "      gap: 12px;\n",
              "    }\n",
              "\n",
              "    .colab-df-convert {\n",
              "      background-color: #E8F0FE;\n",
              "      border: none;\n",
              "      border-radius: 50%;\n",
              "      cursor: pointer;\n",
              "      display: none;\n",
              "      fill: #1967D2;\n",
              "      height: 32px;\n",
              "      padding: 0 0 0 0;\n",
              "      width: 32px;\n",
              "    }\n",
              "\n",
              "    .colab-df-convert:hover {\n",
              "      background-color: #E2EBFA;\n",
              "      box-shadow: 0px 1px 2px rgba(60, 64, 67, 0.3), 0px 1px 3px 1px rgba(60, 64, 67, 0.15);\n",
              "      fill: #174EA6;\n",
              "    }\n",
              "\n",
              "    [theme=dark] .colab-df-convert {\n",
              "      background-color: #3B4455;\n",
              "      fill: #D2E3FC;\n",
              "    }\n",
              "\n",
              "    [theme=dark] .colab-df-convert:hover {\n",
              "      background-color: #434B5C;\n",
              "      box-shadow: 0px 1px 3px 1px rgba(0, 0, 0, 0.15);\n",
              "      filter: drop-shadow(0px 1px 2px rgba(0, 0, 0, 0.3));\n",
              "      fill: #FFFFFF;\n",
              "    }\n",
              "  </style>\n",
              "\n",
              "      <script>\n",
              "        const buttonEl =\n",
              "          document.querySelector('#df-6b1d4452-954a-4d45-867f-201988839e8d button.colab-df-convert');\n",
              "        buttonEl.style.display =\n",
              "          google.colab.kernel.accessAllowed ? 'block' : 'none';\n",
              "\n",
              "        async function convertToInteractive(key) {\n",
              "          const element = document.querySelector('#df-6b1d4452-954a-4d45-867f-201988839e8d');\n",
              "          const dataTable =\n",
              "            await google.colab.kernel.invokeFunction('convertToInteractive',\n",
              "                                                     [key], {});\n",
              "          if (!dataTable) return;\n",
              "\n",
              "          const docLinkHtml = 'Like what you see? Visit the ' +\n",
              "            '<a target=\"_blank\" href=https://colab.research.google.com/notebooks/data_table.ipynb>data table notebook</a>'\n",
              "            + ' to learn more about interactive tables.';\n",
              "          element.innerHTML = '';\n",
              "          dataTable['output_type'] = 'display_data';\n",
              "          await google.colab.output.renderOutput(dataTable, element);\n",
              "          const docLink = document.createElement('div');\n",
              "          docLink.innerHTML = docLinkHtml;\n",
              "          element.appendChild(docLink);\n",
              "        }\n",
              "      </script>\n",
              "    </div>\n",
              "  </div>\n",
              "  "
            ]
          },
          "metadata": {},
          "execution_count": 11
        }
      ],
      "source": [
        "df"
      ]
    },
    {
      "cell_type": "code",
      "source": [
        "import nltk\n",
        "nltk.download('punkt')"
      ],
      "metadata": {
        "colab": {
          "base_uri": "https://localhost:8080/"
        },
        "id": "ZmYq3XKdN_Dg",
        "outputId": "5d88f302-1dfe-47a0-91f3-d61d07c2fcf2"
      },
      "execution_count": 17,
      "outputs": [
        {
          "output_type": "stream",
          "name": "stderr",
          "text": [
            "[nltk_data] Downloading package punkt to /root/nltk_data...\n",
            "[nltk_data]   Unzipping tokenizers/punkt.zip.\n"
          ]
        },
        {
          "output_type": "execute_result",
          "data": {
            "text/plain": [
              "True"
            ]
          },
          "metadata": {},
          "execution_count": 17
        }
      ]
    },
    {
      "cell_type": "code",
      "execution_count": 18,
      "metadata": {
        "id": "_YKPUxntV6kN"
      },
      "outputs": [],
      "source": [
        "#tokenizing the words and sentences\n",
        "from nltk.tokenize import sent_tokenize, word_tokenize\n",
        "from nltk import punkt\n",
        "def tokenize(data, return_sentences = True):\n",
        "    sentences = data.split('\\r\\n')\n",
        "    sentences = [sent.strip() for sent in sentences]\n",
        "    sentences = [sent for sent in sentences if len(sent) > 0]\n",
        "\n",
        "    word_tokens = [word_tokenize(sent.lower()) for sent in sentences]\n",
        "    if return_sentences:\n",
        "        return sentences, word_tokens\n",
        "    return word_tokens"
      ]
    },
    {
      "cell_type": "code",
      "execution_count": 19,
      "metadata": {
        "id": "BNAq_2v5hKiv"
      },
      "outputs": [],
      "source": [
        "#call tokenize() to get sentences and words\n",
        "data=df.to_string(index=False)\n",
        "sentences, word_tokens = tokenize(data)"
      ]
    },
    {
      "cell_type": "code",
      "source": [
        "len(word_tokens[0])"
      ],
      "metadata": {
        "colab": {
          "base_uri": "https://localhost:8080/"
        },
        "id": "tEsuJw37RA5W",
        "outputId": "b9e593ec-bd93-4ea3-ca0e-2ffebf951e8f"
      },
      "execution_count": 41,
      "outputs": [
        {
          "output_type": "execute_result",
          "data": {
            "text/plain": [
              "265"
            ]
          },
          "metadata": {},
          "execution_count": 41
        }
      ]
    },
    {
      "cell_type": "code",
      "execution_count": 51,
      "metadata": {
        "id": "G7Crldt6mQdx"
      },
      "outputs": [],
      "source": [
        "#method to perform train test split\n",
        "train_data=word_tokens[0][:240]\n",
        "test_data=word_tokens[0][240:]\n"
      ]
    },
    {
      "cell_type": "code",
      "source": [
        "#count words\n",
        "from collections import Counter\n",
        "\n",
        "def count_words(data):\n",
        "    cnt = Counter()\n",
        "    for words in data:\n",
        "        cnt.update(words)\n",
        "    return cnt"
      ],
      "metadata": {
        "id": "2jaucRxSOniO"
      },
      "execution_count": 52,
      "outputs": []
    },
    {
      "cell_type": "code",
      "source": [
        "word_count = count_words(train_data)\n"
      ],
      "metadata": {
        "id": "fbfVG_O5SDzP"
      },
      "execution_count": 53,
      "outputs": []
    },
    {
      "cell_type": "code",
      "source": [
        "#create vocabulary\n",
        "def create_vocabulary(word_count, min_frequency=0, max_words=0):\n",
        "    if min_frequency > 0:\n",
        "        vocabulary = []\n",
        "        for word, count in word_count.items():\n",
        "            if count >= min_frequency:\n",
        "                vocabulary.append(word)\n",
        "    if max_words > 0:\n",
        "        vocabulary = [word[0] for word in word_count.most_common(max_words)]\n",
        "\n",
        "    return vocabulary"
      ],
      "metadata": {
        "id": "kORm3i9dSQRg"
      },
      "execution_count": 54,
      "outputs": []
    },
    {
      "cell_type": "code",
      "source": [
        "#repalce words with unknown tokens\n",
        "def handle_unk_words(data, vocabulary, unk_token=\"<unk>\"):\n",
        "    handled_data = []\n",
        "    for sentences in data:\n",
        "        sentence = []\n",
        "        for word in sentences:\n",
        "            if word in vocabulary:\n",
        "                sentence.append(word)\n",
        "            else:\n",
        "                sentence.append(unk_token)\n",
        "        handled_data.append(sentence)\n",
        "    return handled_data"
      ],
      "metadata": {
        "id": "nLPKNheJSU_C"
      },
      "execution_count": 55,
      "outputs": []
    },
    {
      "cell_type": "code",
      "source": [
        "vocabulary = create_vocabulary(word_count, min_frequency=3)\n",
        "preprocessed_data = handle_unk_words(train_data, vocabulary=vocabulary)"
      ],
      "metadata": {
        "id": "EnXCCHpBSehu"
      },
      "execution_count": 56,
      "outputs": []
    },
    {
      "cell_type": "code",
      "source": [
        "preprocessed_data_test = handle_unk_words(test_data, vocabulary=vocabulary)\n"
      ],
      "metadata": {
        "id": "kxUbKo2nSiUL"
      },
      "execution_count": 59,
      "outputs": []
    },
    {
      "cell_type": "code",
      "source": [
        "#n-gram model\n",
        "from collections import defaultdict\n",
        "def count_n_grams(data, n, start_token=\"<s>\", end_token=\"<e>\"):\n",
        "    n_grams = defaultdict(int)\n",
        "    for sentence in data:\n",
        "        sentence = [start_token]*n + sentence + [end_token]\n",
        "        m = len(sentence) if n == 1 else len(sentence)-1\n",
        "        for i in range(m):\n",
        "            n_gram = sentence[i:i+n]\n",
        "            n_gram = tuple(n_gram)\n",
        "            n_grams[n_gram] += 1\n",
        "    return n_grams\n"
      ],
      "metadata": {
        "id": "gzmRW1YmS24b"
      },
      "execution_count": 60,
      "outputs": []
    },
    {
      "cell_type": "code",
      "source": [
        "#calculate probability\n",
        "def calculate_probability(word, previous_n_gram, n_gram_counts, n_plusone_gram_counts,vocabulary_size,k=1):\n",
        "    n_plus_one_gram = tuple(previous_n_gram + [word])\n",
        "    n_plus_one_gram_count = n_plusone_gram_counts[n_plus_one_gram] \\\n",
        "                    if n_plus_one_gram in n_plusone_gram_counts else 0\n",
        "    numerator = n_plus_one_gram_count + k\n",
        "\n",
        "    previous_n_gram = tuple(previous_n_gram)\n",
        "    previous_n_gram_count = n_gram_counts[previous_n_gram] \\\n",
        "                    if previous_n_gram in n_gram_counts else 0\n",
        "\n",
        "    denominator = previous_n_gram_count + k * vocabulary_size\n",
        "\n",
        "\n",
        "    probability = numerator / denominator\n",
        "    return probability"
      ],
      "metadata": {
        "id": "uh9H7wfkTKph"
      },
      "execution_count": 61,
      "outputs": []
    },
    {
      "cell_type": "code",
      "source": [
        "#evaluating model using perplexity\n",
        "def perplexity(sentence,n_gram_counts, \n",
        "               n_plusone_gram_counts, \n",
        "               vocabulary, k=1.0, log_perplexity=True):\n",
        "    # find n as in n-grams\n",
        "    n = len(list(n_gram_counts.keys())[0])\n",
        "\n",
        "    sentence = [\"<s>\"] * n + sentence + [\"<e>\"]\n",
        "    sentence = tuple(sentence)\n",
        "\n",
        "    vocabulary_size = len(vocabulary)\n",
        "\n",
        "    # N = len(sentence) if n == 1 else len(sentence)-1\n",
        "    N = len(sentence)\n",
        "\n",
        "    if log_perplexity:\n",
        "        temp_sum = 0.0\n",
        "    else:\n",
        "        temp_product = 1.0\n",
        "\n",
        "    for t in range(n,N):\n",
        "        n_gram = sentence[t-n:t] \n",
        "        # Because the loop starts at n i.e. it excludes first n words as\n",
        "        # part of n-gram where t is current word so n-gram will be previous n\n",
        "        # words\n",
        "\n",
        "        word = sentence[t]\n",
        "\n",
        "        probability = calculate_probability(word, n_gram, \n",
        "                                            n_gram_counts,\n",
        "                                            n_plusone_gram_counts,\n",
        "                                            vocabulary, k=k)\n",
        "        if log_perplexity:\n",
        "            temp_sum += (1 / probability)\n",
        "        else:\n",
        "            temp_product *= (1 / probability)\n",
        "        \n",
        "    if log_perplexity:\n",
        "        perplexity = - (1/N) * temp_sum\n",
        "    else:\n",
        "      perplexity = temp_product**(1/N)\n",
        "\n",
        "    return perplexity"
      ],
      "metadata": {
        "id": "9KnbSntPTK1m"
      },
      "execution_count": 62,
      "outputs": []
    },
    {
      "cell_type": "code",
      "source": [
        "#calcualte probabilities\n",
        "def calculate_probabilities(previous_n_gram, \n",
        "                            n_gram_counts, n_plusone_gram_counts, \n",
        "                            vocabulary, k=1.0):\n",
        "    probabilities = dict()\n",
        "    vocabulary = vocabulary + [\"<e>\",\"<unk>\"]\n",
        "    vocabulary_size = len(vocabulary)\n",
        "\n",
        "    for word in vocabulary:\n",
        "        probability = calculate_probability(word,\n",
        "                                            previous_n_gram, \n",
        "                                            n_gram_counts, \n",
        "                                            n_plusone_gram_counts, \n",
        "                                            vocabulary_size,\n",
        "                                            k=1.0)\n",
        "        probabilities[word] = probability\n",
        "\n",
        "    return probabilities"
      ],
      "metadata": {
        "id": "6PwqeVqOTwVr"
      },
      "execution_count": 63,
      "outputs": []
    },
    {
      "cell_type": "code",
      "source": [
        "#suggest words\n",
        "def suggest_a_word(previous_tokens, \n",
        "                   n_gram_counts, \n",
        "                   n_plusone_gram_counts, \n",
        "                   vocabulary, \n",
        "                   k=1.0,\n",
        "                   start_with=None):\n",
        "    \n",
        "    n = len(list(n_gram_counts.keys())[0])\n",
        "\n",
        "    previous_n_gram = previous_tokens[-n:] \n",
        "\n",
        "    probabilities = calculate_probabilities(previous_n_gram,\n",
        "                                            n_gram_counts,\n",
        "                                            n_plusone_gram_counts,\n",
        "                                            vocabulary,\n",
        "                                            k=k)\n",
        "    max_probability = 0\n",
        "    suggestion = None\n",
        "\n",
        "    for word, prob in probabilities.items():\n",
        "        if start_with:\n",
        "            if not word.startswith(start_with):\n",
        "                continue\n",
        "        \n",
        "        if prob > max_probability:\n",
        "            max_probability = prob\n",
        "            suggestion = word\n",
        "    return (suggestion, max_probability)"
      ],
      "metadata": {
        "id": "Tn2Xf6_AT997"
      },
      "execution_count": 64,
      "outputs": []
    },
    {
      "cell_type": "code",
      "source": [
        "#get suggestions\n",
        "def get_suggestions(previous_tokens, \n",
        "                    n_gram_counts, \n",
        "                    n_plusone_gram_counts,\n",
        "                    vocabulary,\n",
        "                    k=1.0,\n",
        "                    n_suggestions=4,\n",
        "                    starts_with=None):\n",
        "    \n",
        "    n = len(list(n_gram_counts.keys())[0])\n",
        "\n",
        "    previous_n_gram = previous_tokens[-n:]\n",
        "\n",
        "    probabilities = calculate_probabilities(\n",
        "        previous_n_gram,\n",
        "        n_gram_counts,\n",
        "        n_plusone_gram_counts,\n",
        "        vocabulary,\n",
        "        k=k\n",
        "    )\n",
        "\n",
        "    sorted_probabilities = {\n",
        "        word : probability for word, probability in \\\n",
        "        sorted(probabilities.items(), key=lambda item: item[1], reverse=True)\n",
        "            }\n",
        "    if starts_with:\n",
        "        suggestions = dict()\n",
        "        for word, prob in sorted_probabilities.items():\n",
        "            if word.startswith(starts_with):\n",
        "                suggestions[word] = prob\n",
        "            else:\n",
        "                continue\n",
        "        return list(suggestions.items())[:n_suggestions]\n",
        "\n",
        "    return list(sorted_probabilities.items())[:n_suggestions]"
      ],
      "metadata": {
        "id": "ikPUsDDRUHKz"
      },
      "execution_count": 65,
      "outputs": []
    },
    {
      "cell_type": "code",
      "source": [
        "#test data\n",
        "sentences=[['New','Video','Out','Now','Check','it','out']]\n",
        "unique_words = list(set(sentences[0]))\n",
        "unigram_counts = count_n_grams(sentences, 1)\n",
        "bigram_counts = count_n_grams(sentences, 2)\n",
        "trigram_counts=count_n_grams(sentences,3)\n",
        "fourgram_counts=count_n_grams(sentences,4)\n",
        "fivegram_counts=count_n_grams(sentences,5)\n",
        "\n",
        "previous_tokens = [\"New\", \"Video\"]\n",
        "tmp_suggest1 = suggest_a_word(previous_tokens, unigram_counts, bigram_counts, unique_words, k=1.0)\n",
        "print(f\"The previous words are 'New Video',\\n\\tand the suggested word is `{tmp_suggest1[0]}` with a probability of {tmp_suggest1[1]:.4f}\")\n",
        "\n"
      ],
      "metadata": {
        "colab": {
          "base_uri": "https://localhost:8080/"
        },
        "id": "5oUcqzr_UKJf",
        "outputId": "d488ba20-7e10-48ff-fec0-572e5ae6dd00"
      },
      "execution_count": 68,
      "outputs": [
        {
          "output_type": "stream",
          "name": "stdout",
          "text": [
            "The previous words are 'New Video',\n",
            "\tand the suggested word is `Out` with a probability of 0.2000\n"
          ]
        }
      ]
    },
    {
      "cell_type": "code",
      "source": [
        "get_suggestions(previous_tokens,unigram_counts,bigram_counts,unique_words,k=1,n_suggestions=4,starts_with=\"O\")"
      ],
      "metadata": {
        "colab": {
          "base_uri": "https://localhost:8080/"
        },
        "id": "rS8-D5WbVvgA",
        "outputId": "c5c9ba07-629d-473e-f2a1-72734a4a4477"
      },
      "execution_count": 69,
      "outputs": [
        {
          "output_type": "execute_result",
          "data": {
            "text/plain": [
              "[('Out', 0.2)]"
            ]
          },
          "metadata": {},
          "execution_count": 69
        }
      ]
    },
    {
      "cell_type": "code",
      "source": [
        "previous_tokens = previous_tokens + ['The']\n",
        "get_suggestions(previous_tokens, fourgram_counts, fivegram_counts, unique_words, k=1.0)\n"
      ],
      "metadata": {
        "colab": {
          "base_uri": "https://localhost:8080/"
        },
        "id": "mHyMBcb7WARB",
        "outputId": "83e0afa7-9e42-4163-8806-0e709e4abee4"
      },
      "execution_count": 72,
      "outputs": [
        {
          "output_type": "execute_result",
          "data": {
            "text/plain": [
              "[('Check', 0.1111111111111111),\n",
              " ('it', 0.1111111111111111),\n",
              " ('Out', 0.1111111111111111),\n",
              " ('Video', 0.1111111111111111)]"
            ]
          },
          "metadata": {},
          "execution_count": 72
        }
      ]
    }
  ],
  "metadata": {
    "colab": {
      "collapsed_sections": [],
      "provenance": []
    },
    "kernelspec": {
      "display_name": "Python 3",
      "name": "python3"
    },
    "language_info": {
      "name": "python"
    }
  },
  "nbformat": 4,
  "nbformat_minor": 0
}